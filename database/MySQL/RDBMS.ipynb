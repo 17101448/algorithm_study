{
 "cells": [
  {
   "cell_type": "markdown",
   "metadata": {},
   "source": [
    "#DBMS#\n",
    "\n",
    "- 체계화된 데이터 모임 \n",
    "- DBMS : 데이터 베이스를 관리하는 시스템 \n",
    "\n",
    "#RDBMS#\n",
    "- Relational Database Management System, 관계형 데이터베이스 관리 시스템 \n",
    "- 관계형 데이터 베이스 = 테이블\n",
    "- 속성과 데이터값으로 구조화 \n",
    "\n",
    "![nn](C:\\Users\\BTL\\Desktop\\database\\images/1.png)"
   ]
  }
 ],
 "metadata": {
  "language_info": {
   "name": "python"
  },
  "orig_nbformat": 4
 },
 "nbformat": 4,
 "nbformat_minor": 2
}
