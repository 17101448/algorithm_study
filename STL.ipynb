{
 "cells": [
  {
   "cell_type": "code",
   "execution_count": null,
   "metadata": {},
   "outputs": [],
   "source": []
  },
  {
   "cell_type": "markdown",
   "metadata": {},
   "source": [
    "Stand Template Library\n",
    "\n",
    "### vector \n",
    "일종의 가변 배열,\n",
    "크기를 내 마음대로 할 수 있음 "
   ]
  },
  {
   "cell_type": "code",
   "execution_count": null,
   "metadata": {},
   "outputs": [],
   "source": [
    "vector<int> v(100);\n",
    "// "
   ]
  },
  {
   "cell_type": "markdown",
   "metadata": {},
   "source": [
    "### STL을 함수 인자로 넘길 때 \n"
   ]
  },
  {
   "cell_type": "code",
   "execution_count": null,
   "metadata": {},
   "outputs": [],
   "source": [
    "void func1(vector<int> v){\n",
    "    v[10]=7;\n",
    "}\n",
    "\n",
    "int main(void){\n",
    "    vector<int> v(100);\n",
    "    func1(v);\n",
    "    cout << v[10];\n",
    "}"
   ]
  },
  {
   "cell_type": "markdown",
   "metadata": {},
   "source": [
    "stl또한 복사본을 만들어서보내기 때문에 \n",
    "실제값은 바뀌지 않는다. \n"
   ]
  },
  {
   "cell_type": "code",
   "execution_count": null,
   "metadata": {},
   "outputs": [],
   "source": [
    "bool cmp1(vector<int> v1, vector<int> v2, int idx){\n",
    "    return v1[idx], v2[idx]\n",
    "}"
   ]
  },
  {
   "cell_type": "markdown",
   "metadata": {},
   "source": [
    "위 코드는 연산이 한번 밖에 진행되지 않음에도 불구하고 시간복잡도가 O(n)이다.\n",
    "\n",
    "\n",
    "왜냐하면 원본으로부터 하나하나 복사본을 생성하고 보내기 때문이다. \n",
    "\n",
    "\n",
    "위와 같은 단점이 있을 때 참조를 이용한다. "
   ]
  },
  {
   "cell_type": "markdown",
   "metadata": {},
   "source": []
  },
  {
   "cell_type": "code",
   "execution_count": null,
   "metadata": {},
   "outputs": [],
   "source": [
    "bool cmp2(vector<int>& v1, vector<int>& v2, int idx{\n",
    "    return v1[idx] > v2[idx];\n",
    "}"
   ]
  },
  {
   "cell_type": "markdown",
   "metadata": {},
   "source": [
    "참조 대상에 주소만 넘어가기 때문에 시간 복잡도가 O(1)이 된다. "
   ]
  },
  {
   "cell_type": "markdown",
   "metadata": {},
   "source": []
  }
 ],
 "metadata": {
  "language_info": {
   "name": "python"
  },
  "orig_nbformat": 4
 },
 "nbformat": 4,
 "nbformat_minor": 2
}
