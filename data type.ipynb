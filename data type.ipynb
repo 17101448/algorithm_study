{
 "cells": [
  {
   "cell_type": "code",
   "execution_count": null,
   "metadata": {},
   "outputs": [],
   "source": []
  },
  {
   "cell_type": "markdown",
   "metadata": {},
   "source": [
    "## 함수인자\n",
    "\n",
    "함수 인자로 int, int배열, int 구조체로 값을 바꿨을 때 원본의 값이 변하는가? \n",
    "다음 세 코드의 출력값을 예측하시오 "
   ]
  },
  {
   "cell_type": "code",
   "execution_count": null,
   "metadata": {},
   "outputs": [],
   "source": [
    "void func(int a){\n",
    "    a=5;\n",
    "}\n",
    "\n",
    "int main(void){\n",
    "    int t =0;\n",
    "    func(t);\n",
    "    cout << t; \n",
    "}\n"
   ]
  },
  {
   "cell_type": "markdown",
   "metadata": {},
   "source": [
    "0\n",
    "\n",
    "값이 복사되어서 넘어감 \n",
    "main 변수에는 영향 없음 "
   ]
  },
  {
   "cell_type": "code",
   "execution_count": null,
   "metadata": {},
   "outputs": [],
   "source": [
    "void funcc(int arr[]){\n",
    "    arr[0] = 10; \n",
    "}\n",
    "\n",
    "int main(void){\n",
    "    int arr[3] = {1,2,3};\n",
    "    func(arr);\n",
    "    cout << arr[0];\n",
    "}\n"
   ]
  },
  {
   "cell_type": "markdown",
   "metadata": {},
   "source": [
    "10\n",
    "\n",
    "arr의 주소를 넘겨주기 때문에 원본의 값 또한 변한다 "
   ]
  },
  {
   "cell_type": "code",
   "execution_count": null,
   "metadata": {},
   "outputs": [],
   "source": [
    "struct pt{ int x, y;};\n",
    "\n",
    "void func(pt a){\n",
    "    a.x = 10; \n",
    "}\n",
    "\n",
    "int main(void){\n",
    "    pt tmp = {0,0};\n",
    "    func(tmp);\n",
    "    cout<<tmp.x; \n",
    "}\n"
   ]
  },
  {
   "cell_type": "markdown",
   "metadata": {},
   "source": [
    "0\n",
    "\n",
    "일반적인 int와 같이 값이 전부 복사됨 \n",
    "\n",
    "\n",
    "# Reference \n",
    "\n",
    "기존 c에서 swap을 하기위해서는 포인터를 활용 했어야 함 "
   ]
  },
  {
   "cell_type": "code",
   "execution_count": null,
   "metadata": {},
   "outputs": [],
   "source": [
    "void swap1(int a, int b){\n",
    "    int tmp = a;\n",
    "    a = b;\n",
    "    b = tmp;\n",
    "}"
   ]
  },
  {
   "cell_type": "markdown",
   "metadata": {},
   "source": [
    "다음과 같이 작성할 경우 인자를 복사해서 받아오기 때문에 \n",
    "실제 변수의 값은 변하지 않는다. "
   ]
  },
  {
   "cell_type": "code",
   "execution_count": null,
   "metadata": {},
   "outputs": [],
   "source": [
    "void swap2(int* a, int* b){\n",
    "    int tmp = *a;\n",
    "    *a = *b;\n",
    "    *b = tmp; \n",
    "}"
   ]
  },
  {
   "cell_type": "markdown",
   "metadata": {},
   "source": [
    "따라서 포인터를 이용해서 했는데 \n",
    "cpp에서는 reference 선언을 해주는 방법도 존재한다. "
   ]
  },
  {
   "cell_type": "code",
   "execution_count": null,
   "metadata": {},
   "outputs": [],
   "source": [
    "void swap3(int& a, int&b){\n",
    "    int tmp = a;\n",
    "    a=b;\n",
    "    b=tmp; \n",
    "}"
   ]
  },
  {
   "cell_type": "markdown",
   "metadata": {},
   "source": [
    "참조자는 포인터와 거의 비슷한 기능을 하지만 \n",
    "null pointer에 값을 넣는다거나 \n",
    "type이 다른걸 마음대로 캐스팅 한다거나 하는 문제들을 해결 가능 "
   ]
  }
 ],
 "metadata": {
  "language_info": {
   "name": "python"
  },
  "orig_nbformat": 4
 },
 "nbformat": 4,
 "nbformat_minor": 2
}
