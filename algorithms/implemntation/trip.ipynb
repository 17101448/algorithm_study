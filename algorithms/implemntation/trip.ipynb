{
 "cells": [
  {
   "cell_type": "markdown",
   "metadata": {},
   "source": [
    "여행가는 nxn 크기 위 정사각형 공간 위에 서 있다. \n",
    "가장 왼쪽 위 좌표는 1,1이며 가장 오른쪽 아래는 n,n이다. \n",
    "\n",
    "여행가 a는 상하좌우 방향으로 이동할 수 있으며, 시작좌표는 1,1이다. \n",
    "\n",
    "여행계획서에는 LRUD 중 하나의 문자가 반복적으로 적혀있다. \n",
    "\n",
    "이 때 여행가가 nxn 정사각형 공간을 벗어나는 움직임은 무시된다. "
   ]
  },
  {
   "cell_type": "markdown",
   "metadata": {},
   "source": [
    "입력 조건 : 1. 공간의 크기를 나타내는 N이 주어진다. (1과 100사이 정수)\n",
    "            2. 계획서 내용이 주어진다. \n",
    "출력 조건 : 여행가가 최종적으로 도착할 지점의 좌표 x,y가 공백으로 구분되어 출력 "
   ]
  },
  {
   "cell_type": "markdown",
   "metadata": {},
   "source": [
    "입력 예시\n",
    "5\n",
    "R R R U D D\n",
    "\n",
    "출력 예시\n",
    "3 4 "
   ]
  },
  {
   "cell_type": "code",
   "execution_count": 7,
   "metadata": {},
   "outputs": [
    {
     "ename": "ValueError",
     "evalue": "invalid literal for int() with base 10: 'ㄸㄴㅊ멛'",
     "output_type": "error",
     "traceback": [
      "\u001b[1;31m---------------------------------------------------------------------------\u001b[0m",
      "\u001b[1;31mValueError\u001b[0m                                Traceback (most recent call last)",
      "\u001b[1;32m<ipython-input-7-af6862bf1f7f>\u001b[0m in \u001b[0;36m<module>\u001b[1;34m\u001b[0m\n\u001b[1;32m----> 1\u001b[1;33m \u001b[0mn\u001b[0m \u001b[1;33m=\u001b[0m \u001b[0mint\u001b[0m\u001b[1;33m(\u001b[0m\u001b[0minput\u001b[0m\u001b[1;33m(\u001b[0m\u001b[1;33m)\u001b[0m\u001b[1;33m)\u001b[0m\u001b[1;33m\u001b[0m\u001b[1;33m\u001b[0m\u001b[0m\n\u001b[0m\u001b[0;32m      2\u001b[0m \u001b[0mx\u001b[0m\u001b[1;33m,\u001b[0m \u001b[0my\u001b[0m \u001b[1;33m=\u001b[0m \u001b[1;36m1\u001b[0m\u001b[1;33m,\u001b[0m\u001b[1;36m1\u001b[0m\u001b[1;33m\u001b[0m\u001b[1;33m\u001b[0m\u001b[0m\n\u001b[0;32m      3\u001b[0m \u001b[0mplans\u001b[0m \u001b[1;33m=\u001b[0m \u001b[0minput\u001b[0m\u001b[1;33m(\u001b[0m\u001b[1;33m)\u001b[0m\u001b[1;33m.\u001b[0m\u001b[0msplit\u001b[0m\u001b[1;33m(\u001b[0m\u001b[1;33m)\u001b[0m\u001b[1;33m\u001b[0m\u001b[1;33m\u001b[0m\u001b[0m\n\u001b[0;32m      4\u001b[0m \u001b[1;33m\u001b[0m\u001b[0m\n\u001b[0;32m      5\u001b[0m \u001b[0mnx\u001b[0m\u001b[1;33m=\u001b[0m\u001b[1;36m0\u001b[0m\u001b[1;33m\u001b[0m\u001b[1;33m\u001b[0m\u001b[0m\n",
      "\u001b[1;31mValueError\u001b[0m: invalid literal for int() with base 10: 'ㄸㄴㅊ멛'"
     ]
    }
   ],
   "source": [
    "n = int(input())\n",
    "x, y = 1,1 \n",
    "plans = input().split()\n",
    "\n",
    "nx=0\n",
    "ny=0\n",
    "\n",
    "moveTypes = ['L', 'R', 'U', 'D']\n",
    "dx = [-1, 1, 0, 0]\n",
    "dy = [0, 0, 1, -1]\n",
    "\n",
    "#입력된 계획을 모두 검사 \n",
    "for plan in plans:\n",
    "    #입력된 계획과 이미 정해둔 movetype 검사 \n",
    "    #따라서 모든 movetype에 접근\n",
    "    for i in range(len(moveTypes)):\n",
    "        #다음번 갈 좌표를 임시로 생성 \n",
    "        if plan == moveTypes[i] :\n",
    "            nx=x+dx[i]\n",
    "            ny=y+dy[i]\n",
    "        #임시로 생성된 좌표가 맞는지 확인 \n",
    "        if(nx<1 or ny<1 or nx>8 or ny>8):\n",
    "            continue\n",
    "        #break를 사용시 입력된 계획의 중간까지만 실행하고 종료죔 \n",
    "        x=nx\n",
    "        y=ny\n",
    "\n",
    "print(x,y)\n",
    "        \n"
   ]
  }
 ],
 "metadata": {
  "interpreter": {
   "hash": "97ae724bfa85b9b34df7982b8bb8c7216f435b92902d749e4263f71162bea840"
  },
  "kernelspec": {
   "display_name": "Python 3.8.5 64-bit ('base': conda)",
   "name": "python3"
  },
  "language_info": {
   "codemirror_mode": {
    "name": "ipython",
    "version": 3
   },
   "file_extension": ".py",
   "mimetype": "text/x-python",
   "name": "python",
   "nbconvert_exporter": "python",
   "pygments_lexer": "ipython3",
   "version": "3.8.5"
  },
  "orig_nbformat": 4
 },
 "nbformat": 4,
 "nbformat_minor": 2
}
