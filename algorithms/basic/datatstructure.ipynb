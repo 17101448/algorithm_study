{
 "cells": [
  {
   "cell_type": "markdown",
   "metadata": {},
   "source": [
    "Stack \n",
    "\n",
    "박스 쌓기 선입후출, 후입선출 \n",
    "\n",
    "- 프로세스 실행 구조의 가장 기본 \n",
    "- 함수 호출시 프로세스 실행 구조를 스택과 비교해서 이해해야함 \n"
   ]
  },
  {
   "cell_type": "code",
   "execution_count": null,
   "metadata": {},
   "outputs": [],
   "source": [
    "stack = []\n",
    "\n",
    "stack.append(5)\n",
    "stack.pop()\n",
    "\n",
    "#최하단 원소부터 출력\n",
    "print(stack)\n",
    "#최상단 원소부터 출력 \n",
    "print(stack[::-1])"
   ]
  },
  {
   "cell_type": "code",
   "execution_count": 3,
   "metadata": {},
   "outputs": [
    {
     "name": "stdout",
     "output_type": "stream",
     "text": [
      "5\n",
      "4\n",
      "3\n",
      "2\n",
      "1\n",
      "0\n",
      "ended\n",
      "returned 0\n",
      "returned 1\n",
      "returned 2\n",
      "returned 3\n",
      "returned 4\n",
      "returned 5\n"
     ]
    }
   ],
   "source": [
    "#재귀 함수 \n",
    "def recursive(data):\n",
    "    if data < 0:\n",
    "        print(\"ended\")\n",
    "    else:\n",
    "        print(data)\n",
    "        recursive(data-1)\n",
    "        print(\"returned\", data)\n",
    "        \n",
    "\n",
    "recursive(5)"
   ]
  },
  {
   "cell_type": "markdown",
   "metadata": {},
   "source": [
    "Queue\n",
    "대기줄, 선입선출 "
   ]
  },
  {
   "cell_type": "code",
   "execution_count": null,
   "metadata": {},
   "outputs": [],
   "source": [
    "form collections import deque\n",
    "\n",
    "queue = deque()\n",
    "\n",
    "queue.append(4)\n",
    "queue.popleft()\n",
    "\n",
    "#먼저 들어온 순서대로 출력 \n",
    "print(queue)\n",
    "#나중에 들어온 원소부터 출력 \n",
    "print(queue.reverse())"
   ]
  }
 ],
 "metadata": {
  "interpreter": {
   "hash": "97ae724bfa85b9b34df7982b8bb8c7216f435b92902d749e4263f71162bea840"
  },
  "kernelspec": {
   "display_name": "Python 3.8.5 64-bit ('base': conda)",
   "language": "python",
   "name": "python3"
  },
  "language_info": {
   "codemirror_mode": {
    "name": "ipython",
    "version": 3
   },
   "file_extension": ".py",
   "mimetype": "text/x-python",
   "name": "python",
   "nbconvert_exporter": "python",
   "pygments_lexer": "ipython3",
   "version": "3.8.5"
  },
  "orig_nbformat": 4
 },
 "nbformat": 4,
 "nbformat_minor": 2
}
