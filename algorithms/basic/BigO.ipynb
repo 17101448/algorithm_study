{
 "cells": [
  {
   "cell_type": "markdown",
   "metadata": {},
   "source": [
    "# 알고리즘 복잡도 #\n",
    "\n",
    "## 1. 시간복잡도 ##\n",
    "    - 실행 속도\n",
    "## 2. 공간복잡도 ##\n",
    "    - 메모리 사이즈\n",
    "\n",
    "\n",
    "## Big O 표기법 : O(N) ##\n",
    "\n",
    "- 알고리즘 최악의 실행 시간을 표시 \n",
    "- 일반적으로 가장 많이 사용 \n",
    "\n",
    "- 반복문과 입력의 크기가 알고리즘 수행시간에 절대적인 영향 \n",
    "\n",
    "## 계산법 ##\n",
    "\n",
    "-  O(1) 무조건 상수회 실행한다 \n",
    "- O(n)   : 3n + 10번등 실행한다. \n",
    "- O(n^2) : 100n^2-1번등 실행한다\n",
    "\n"
   ]
  },
  {
   "cell_type": "code",
   "execution_count": null,
   "metadata": {},
   "outputs": [],
   "source": [
    "#시간복잡도 O(n)\n",
    "def sum_all(n):\n",
    "    total =0\n",
    "    for num in range(1, n+1):\n",
    "        total += num \n",
    "    return total \n",
    "\n",
    "#시간복잡도 O(1)\n",
    "def sum_all(n):\n",
    "    return int(n*(n+1)/2)\n"
   ]
  }
 ],
 "metadata": {
  "language_info": {
   "name": "python"
  },
  "orig_nbformat": 4
 },
 "nbformat": 4,
 "nbformat_minor": 2
}
