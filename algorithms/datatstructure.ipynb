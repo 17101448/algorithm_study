{
 "cells": [
  {
   "cell_type": "markdown",
   "metadata": {},
   "source": [
    "Stack \n",
    "\n",
    "박스 쌓기 선입후출, 후입선출 "
   ]
  },
  {
   "cell_type": "code",
   "execution_count": null,
   "metadata": {},
   "outputs": [],
   "source": [
    "stack = []\n",
    "\n",
    "stack.append(5)\n",
    "stack.pop()\n",
    "\n",
    "#최하단 원소부터 출력\n",
    "print(stack)\n",
    "#최상단 원소부터 출력 \n",
    "print(stack[::-1])"
   ]
  },
  {
   "cell_type": "markdown",
   "metadata": {},
   "source": [
    "Queue\n",
    "대기줄, 선입선출 "
   ]
  },
  {
   "cell_type": "code",
   "execution_count": null,
   "metadata": {},
   "outputs": [],
   "source": [
    "form collections import deque\n",
    "\n",
    "queue = deque()\n",
    "\n",
    "queue.append(4)\n",
    "queue.popleft()\n",
    "\n",
    "#먼저 들어온 순서대로 출력 \n",
    "print(queue)\n",
    "#나중에 들어온 원소부터 출력 \n",
    "print(queue.reverse())"
   ]
  }
 ],
 "metadata": {
  "language_info": {
   "name": "python"
  },
  "orig_nbformat": 4
 },
 "nbformat": 4,
 "nbformat_minor": 2
}
