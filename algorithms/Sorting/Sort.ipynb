{
 "cells": [
  {
   "cell_type": "markdown",
   "metadata": {},
   "source": [
    "## 선택정렬 ##\n",
    "\n",
    "가장 작은 데이터를 선택해 맨 앞 데이터와 바꿈 \n",
    "n-1회 반복 시 정렬 완료 \n",
    "\n",
    "n-1번만큼 작은수 찾기 \n",
    "    해당 반복문에서  n-2회만큼 비교연산 \n",
    "\n",
    "n+n-1+...+2\n",
    "\n",
    "n*(n+1)/2\n",
    "\n",
    "O(n^2)\n"
   ]
  },
  {
   "cell_type": "code",
   "execution_count": 1,
   "metadata": {},
   "outputs": [
    {
     "name": "stdout",
     "output_type": "stream",
     "text": [
      "[0, 1, 2, 3, 4, 6, 6, 7, 8, 9]\n"
     ]
    }
   ],
   "source": [
    "array = [7,6,9,0,3,1,6,2,4,8]\n",
    "\n",
    "for i in range(len(array)):\n",
    "    min_index=i\n",
    "    for j in range(i+1,len(array)):\n",
    "        # 가장 작은값 찾아내기 \n",
    "        if array[min_index]>array[j]:\n",
    "            min_index = j\n",
    "    array[min_index], array[i] = array[i], array[min_index]\n",
    "    \n",
    "print(array)"
   ]
  },
  {
   "cell_type": "markdown",
   "metadata": {},
   "source": [
    "## 삽입 정렬 ##\n",
    "\n",
    "- 데이터를 하나씩 확인하며 각 데이터를 적절한 위치에 삽입 \n",
    "- 실행 시간에 있어서 효율적\n",
    "- 필요한 위치만 바꿈 -> 데이터가 거의 정렬되어 있을 때 효율적 \n",
    "\n",
    "## 구현방법 ##\n",
    "\n",
    "\n",
    "## 특징 ##\n",
    "정렬이 이루어진 부분은 항상 오름차순을 유지 \n",
    "특정한 데이터가 삽입될 위치선택\n",
    "= 삽입될 위치를 찾기 위해 한칸씩 이동 \n",
    "\n",
    "삽입될 데이터보다 작은데이터를 만나면 멈추면 됨 \n",
    "\n"
   ]
  },
  {
   "cell_type": "code",
   "execution_count": 3,
   "metadata": {},
   "outputs": [
    {
     "name": "stdout",
     "output_type": "stream",
     "text": [
      "[0, 1, 2, 3, 4, 5, 6, 7, 8, 9]\n"
     ]
    }
   ],
   "source": [
    "array = [7,5,9,0,3,1,6,2,4,8]\n",
    "\n",
    "for index in range(len(array)):\n",
    "    #한칸씩 좌로 이동 \n",
    "    for j in range(index, 0, -1):\n",
    "        #옆칸 요소랑 비교 \n",
    "        #현재칸이 더 작을 때만 왼쪽으로 이동 \n",
    "        if array[j] < array[j-1]:\n",
    "            array[j], array[j-1] = array[j-1], array[j]\n",
    "        #자기보다 더 작은 칸 만나면 즉시 종료 \n",
    "        else:\n",
    "            break\n",
    "\n",
    "print(array)\n",
    "        \n",
    "        \n",
    "\n",
    "    "
   ]
  }
 ],
 "metadata": {
  "interpreter": {
   "hash": "97ae724bfa85b9b34df7982b8bb8c7216f435b92902d749e4263f71162bea840"
  },
  "kernelspec": {
   "display_name": "Python 3.8.5 64-bit ('base': conda)",
   "language": "python",
   "name": "python3"
  },
  "language_info": {
   "codemirror_mode": {
    "name": "ipython",
    "version": 3
   },
   "file_extension": ".py",
   "mimetype": "text/x-python",
   "name": "python",
   "nbconvert_exporter": "python",
   "pygments_lexer": "ipython3",
   "version": "3.8.5"
  },
  "orig_nbformat": 4
 },
 "nbformat": 4,
 "nbformat_minor": 2
}
