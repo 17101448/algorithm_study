{
 "cells": [
  {
   "cell_type": "code",
   "execution_count": 13,
   "metadata": {},
   "outputs": [
    {
     "name": "stdout",
     "output_type": "stream",
     "text": [
      "R 2 1\n",
      "if 2 1\n",
      "R 3 1\n",
      "if 3 1\n",
      "R 4 1\n",
      "if 4 1\n",
      "U 4 0\n",
      "D 4 2\n",
      "if 4 2\n",
      "D 4 3\n",
      "if 4 3\n",
      "result:  4   3\n"
     ]
    }
   ],
   "source": [
    "#trip 문제 \n",
    "\n",
    "n = int(input())\n",
    "plans = input().split()\n",
    "\n",
    "x, y = 1,1\n",
    "\n",
    "dx = [1,-1,0,0]\n",
    "dy = [0,0,-1,1]\n",
    "\n",
    "planA = ['R','L','U','D']\n",
    "\n",
    "for plan in plans:\n",
    "    for i in range(len(planA)):        \n",
    "        if plan == planA[i]:\n",
    "            rx= x + dx[i]\n",
    "            ry= y + dy[i]\n",
    "            print(plan,rx,ry)\n",
    "            \n",
    "            if 0<rx<n and 0<ry<n:\n",
    "                x= rx\n",
    "                y= ry\n",
    "                print(\"if\",x,y)\n",
    "            \n",
    "\n",
    "\n",
    "print(\"result: \",x,\" \",y)\n",
    "            \n"
   ]
  },
  {
   "cell_type": "code",
   "execution_count": null,
   "metadata": {},
   "outputs": [],
   "source": [
    "input = input()\n",
    "\n",
    "y = int(input[1])\n",
    "x = int(ord(input[0]))-int(ord('a'))+1\n",
    "\n",
    "\n",
    "dx = [2, 2, -2, -2, 1, -1, 1, -1]\n",
    "dy = [1, -1, 1, -1, 2, 2, -2, -2]\n",
    "count = 0 \n",
    "moveType =[0,1,2,3,4,5,6,7]\n",
    "\n",
    "for i in moveType:\n",
    "    rx=x+dx[i]\n",
    "    ry=y+dy[i]\n",
    "    if 0<rx<=x and 0<ry<=y:\n",
    "        count +=1\n",
    "        \n",
    "print(count)\n",
    "\n",
    "\n"
   ]
  }
 ],
 "metadata": {
  "interpreter": {
   "hash": "97ae724bfa85b9b34df7982b8bb8c7216f435b92902d749e4263f71162bea840"
  },
  "kernelspec": {
   "display_name": "Python 3.8.5 64-bit ('base': conda)",
   "language": "python",
   "name": "python3"
  },
  "language_info": {
   "codemirror_mode": {
    "name": "ipython",
    "version": 3
   },
   "file_extension": ".py",
   "mimetype": "text/x-python",
   "name": "python",
   "nbconvert_exporter": "python",
   "pygments_lexer": "ipython3",
   "version": "3.8.5"
  },
  "orig_nbformat": 4
 },
 "nbformat": 4,
 "nbformat_minor": 2
}
