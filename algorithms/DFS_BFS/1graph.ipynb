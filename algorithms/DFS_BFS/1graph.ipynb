{
 "cells": [
  {
   "cell_type": "markdown",
   "metadata": {},
   "source": []
  },
  {
   "cell_type": "markdown",
   "metadata": {},
   "source": [
    "# DFS #\n",
    "\n",
    "- 깊이 우선 탐색 \n",
    "\n",
    "## 그래프의 기본 구조 ##\n",
    "\n",
    "- 도시와 도시 사이에 길이라고 생각하기 \n",
    "- 노드와 간선(edge)으로 표현\n",
    "- 연결이 되어 있지 않은 노드 끼리는 무한의 비용으로 생각 \n",
    "- 자기 자신은 0의 비용으로 생각 \n",
    "- 연결되어있을 경우 인접(adjacent)하다고 표현\n",
    "\n",
    "- 인접행렬 \n",
    "    - 2차원 배열로 그래프의 연결 관계를 표현하는 방식\n",
    "- 인접 리스트\n",
    "    - 리스트로 그래프의 연결 관계를 표현하는 방식 \n",
    "\n",
    "    ___0\n",
    "\n",
    "   __/  __\\\n",
    "\n",
    "     (7) __   (5)\n",
    "\n",
    "    /  _______  \\\n",
    "    \n",
    "   1   _________        2\n",
    "\n",
    "# 인접행렬 방식 #"
   ]
  },
  {
   "cell_type": "code",
   "execution_count": null,
   "metadata": {},
   "outputs": [],
   "source": [
    "##인접 행렬 방식 \n",
    "\n",
    "INF = 99999999 # 무한의 비용 선언 \n",
    "\n",
    "graph = [ [0,7,5], [7,0,INF], [5, INF, 0]]"
   ]
  },
  {
   "cell_type": "markdown",
   "metadata": {},
   "source": [
    "## 인접 리스트 방식 ##\n",
    "\n",
    "        0\n",
    "      /   \\\n",
    "     7      5\n",
    "    /        \\\n",
    "   1           2\n",
    "\n",
    "0 -> 1(7) -> 2(5)\n",
    "1 -> 0(7)\n",
    "2 -> 0(5)\n"
   ]
  },
  {
   "cell_type": "code",
   "execution_count": 2,
   "metadata": {},
   "outputs": [
    {
     "name": "stdout",
     "output_type": "stream",
     "text": [
      "[[(1, 7), (2, 5)], [(0, 7)], [(0, 5)]]\n"
     ]
    }
   ],
   "source": [
    "\n",
    "graph = [[] for _ in range(3)]\n",
    "\n",
    "#노드 0에 연결된 노드 정보 저장(노드, 거리)\n",
    "graph[0].append((1,7))\n",
    "graph[0].append((2,5))\n",
    "\n",
    "#노드 1에 연결된 노드 정보 저장(노드, 거리)\n",
    "graph[1].append((0,7))\n",
    "\n",
    "#노드 2에 연결된 노드 정보 저장(노드, 거리)\n",
    "graph[2].append((0,5))\n",
    "\n",
    "\n",
    "print(graph)"
   ]
  },
  {
   "cell_type": "markdown",
   "metadata": {},
   "source": []
  },
  {
   "cell_type": "markdown",
   "metadata": {},
   "source": [
    "## 인접 리스트 vs 인접 행렬 ## \n",
    "\n",
    "        0\n",
    "      /   \\\n",
    "     7      5\n",
    "    /        \\\n",
    "   1          2\n",
    "\n",
    "\n",
    "\n",
    "- 인접행렬 \n",
    "\n",
    "  0 1 2\n",
    "0 0 7 5\n",
    "1 7 0 I\n",
    "2 5 I 0 \n",
    "\n",
    "    - [0,7,5], [7,0,INF], [5, INF, 0]\n",
    "    - 모든 관계 저장 -> 노드 개수가 많을수록 메모리가 불필요하게 낭비\n",
    "\n",
    "- 인접리스트\n",
    "\n",
    "    - [[(1, 7), (2, 5)], [(0, 7)], [(0, 5)]]\n",
    "    - 연결된 정보만을 저장 -> 메모리 효율적 \n",
    "    - 두 노드가 연결되어 있는지에 대한 정보를 얻기까지 속도가 느림 \n",
    "    - 연결된 데이터를 하나씩 확인해야하기 때문 "
   ]
  }
 ],
 "metadata": {
  "interpreter": {
   "hash": "97ae724bfa85b9b34df7982b8bb8c7216f435b92902d749e4263f71162bea840"
  },
  "kernelspec": {
   "display_name": "Python 3.8.5 64-bit ('base': conda)",
   "language": "python",
   "name": "python3"
  },
  "language_info": {
   "codemirror_mode": {
    "name": "ipython",
    "version": 3
   },
   "file_extension": ".py",
   "mimetype": "text/x-python",
   "name": "python",
   "nbconvert_exporter": "python",
   "pygments_lexer": "ipython3",
   "version": "3.8.5"
  },
  "orig_nbformat": 4
 },
 "nbformat": 4,
 "nbformat_minor": 2
}
