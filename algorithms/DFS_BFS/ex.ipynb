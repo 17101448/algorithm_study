{
 "cells": [
  {
   "cell_type": "markdown",
   "metadata": {},
   "source": [
    "# 음료수 얼려먹기 #\n",
    "\n",
    "- NM크기의 얼음틀이 있다.\n",
    "- 0: 구멍이 뚫려있는 부분\n",
    "- 1: 칸막이가 존재하는 부분\n",
    "- 구멍이 뚫려있는 부분끼리 상,하,좌,우로 붙어있는 경우 서로 연결되어 있는 것으로 간주 \n",
    "- 얼음 틀의 모양이 주어졌을 때 생성되는 아이스크림의 총개수를 구하는 프로그램 \n",
    "\n"
   ]
  },
  {
   "cell_type": "markdown",
   "metadata": {},
   "source": [
    "## 입력 조건 ##\n",
    "- 첫번째 줄에 얼음 틀의 세로 길이 n, 가로길이 m이 주어진다.\n",
    "- 두번째 줄부터 N+1번째 줄까지 얼음 틀의 형태가 주어진다. \n",
    "\n",
    "00110\n",
    "00011\n",
    "11111\n",
    "00000\n",
    "\n",
    "## 출력 조건 ##\n",
    "한번에 만들 수 있는 아이스크림의 개수를 출력한다. \n",
    "\n",
    "\n"
   ]
  },
  {
   "cell_type": "markdown",
   "metadata": {},
   "source": [
    "## 구현 방법 ##\n",
    "\n",
    "모델링 \n",
    "- 얼릴 수 있는 공간이 상하좌우로 연결 -> 그래프 형태로 표현가능 \n",
    "- 0인 값 끼리 연결되어 있는 노드를 묶음\n",
    "- 묶음의 개수를 세면 된다. \n",
    "\n",
    "구현 방법 \n",
    "1. 특정 지점의 주변 상,하,좌,우를 살펴본디\n",
    "2. 주변 지점 중 값이 0이면서 방문하지 않은 노드가 있으면 노드 방문 \n",
    "3. 방문 지점에서 다시 주변을 보면서 진행 -> 연결된 모든 지점 방문 \n",
    "4. 모든 노드에 반복하여 방문하지 않은 지점의 수를 센다. \n"
   ]
  },
  {
   "cell_type": "code",
   "execution_count": 1,
   "metadata": {},
   "outputs": [
    {
     "name": "stdout",
     "output_type": "stream",
     "text": [
      "3\n"
     ]
    }
   ],
   "source": [
    "\n",
    "#2차원 맵 정보 입력 받기 \n",
    "n,m = map(int, input().split())\n",
    "graph = []\n",
    "##range는 전체 범위 \n",
    "for i in range(n):\n",
    "    graph.append(list(map(int, input())))\n",
    "\n",
    "#DFS로 특정 노드 방문 후에 연결된 모든 노드 방문 \n",
    "\n",
    "def dfs(x, y):\n",
    "    if x<=-1 or x>=n or y<=-1 or y>=m:\n",
    "        return False\n",
    "    #x,y의 노드를 방문하지 않음 \n",
    "    if graph[x][y] == 0:\n",
    "        #해당 노드 방문 처리 \n",
    "        graph[x][y] = 2\n",
    "        #인접 노드 전부 재귀적 호출 \n",
    "        dfs(x-1,yㅖ)\n",
    "        dfs(x,y-1)\n",
    "        dfs(x+1,y)\n",
    "        dfs(x,y+1)\n",
    "        return True \n",
    "    return False \n",
    "\n",
    "#############################################\n",
    "result =0\n",
    "for i in range(n):\n",
    "    for j in range(m):\n",
    "        if dfs(i,j)==True:\n",
    "            result +=1\n",
    "            \n",
    "print(result)\n"
   ]
  },
  {
   "cell_type": "markdown",
   "metadata": {},
   "source": [
    "## 미로탈출 ##\n",
    "\n",
    "- nm 크기의 미로 \n",
    "- 나의 위치는 (1,1)\n",
    "- 미로의 출구는 (n,m)\n",
    "- 1 : 괴물이 없는 부분\n",
    "- 0 : 괴물이 있는 부분\n",
    "- 시작칸과 마지막칸을 모두 포함해서 카운트 \n"
   ]
  },
  {
   "cell_type": "code",
   "execution_count": null,
   "metadata": {},
   "outputs": [],
   "source": [
    "n, m = map(int, input().split())\n",
    "\n",
    "graph =[]\n",
    "for i in range(n):\n",
    "    graph.append(list(map(int, input().split)))\n",
    "    \n",
    "def bfs(x,y):\n",
    "    if x>=n or x<=-1 or y>=m or y<=-1:\n",
    "        return False\n",
    "    \n",
    "    "
   ]
  }
 ],
 "metadata": {
  "interpreter": {
   "hash": "97ae724bfa85b9b34df7982b8bb8c7216f435b92902d749e4263f71162bea840"
  },
  "kernelspec": {
   "display_name": "Python 3.8.5 64-bit ('base': conda)",
   "language": "python",
   "name": "python3"
  },
  "language_info": {
   "codemirror_mode": {
    "name": "ipython",
    "version": 3
   },
   "file_extension": ".py",
   "mimetype": "text/x-python",
   "name": "python",
   "nbconvert_exporter": "python",
   "pygments_lexer": "ipython3",
   "version": "3.8.5"
  },
  "orig_nbformat": 4
 },
 "nbformat": 4,
 "nbformat_minor": 2
}
