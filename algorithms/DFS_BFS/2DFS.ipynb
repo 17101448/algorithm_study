{
 "cells": [
  {
   "cell_type": "markdown",
   "metadata": {},
   "source": [
    "DFS 동작과정\n",
    "\n",
    "- 스택 자료구조 기초 \n",
    "- 가장 먼저 들어온 것이 마지막에 나간다\n",
    "  - 먼저 온것을 기준으로 가장 깊숙하게 탐색 \n",
    "\n",
    "1. 탐색 시작 노드를 스택에 삽입하고 방문처리 \n",
    "2. 스택의 최상단 노드에 방문하지 않은 인접 노드  o -> 해당 인접노드를 스택에 넣고 방문 처리 \n",
    "2-2. 스택의 최상단 노드에 방문하지 않은 인접노드 x -> 스택에서 최상단 노드를 꺼낸다. \n",
    "3. 2번의 과정을 수행할 수 없을 때 까지 반복 \n",
    "\n",
    "  1 - 2\n",
    " / \\     \\\n",
    " 3  \\     7\n",
    "     \\\n",
    "/ \\   \\ /  \\\n",
    "\n",
    "4-5   8      6\n",
    "\n",
    "- 구현이 간단하다\n",
    "- 데이터의 개수가 N인 경우 O(N)의 시간이 소요 "
   ]
  },
  {
   "cell_type": "code",
   "execution_count": 4,
   "metadata": {},
   "outputs": [
    {
     "name": "stdout",
     "output_type": "stream",
     "text": [
      "1 2 7 6 8 3 4 5 "
     ]
    }
   ],
   "source": [
    "def DFS(graph, start, visited):\n",
    "    visited[start] = True\n",
    "    print(start, end=' ')\n",
    "\n",
    "##iterate 리스트에서 시작점 \n",
    "    for i in graph[start]:\n",
    "        if not visited[i]:\n",
    "            DFS(graph, i, visited)\n",
    "            \n",
    "# 각 노드가 연결된 정보를 리스트 자료형으로 표현 \n",
    "\n",
    "graph=[[], [2,3,8], [1,7], [1,4,5], [3,5], [3,4], [7], [2,6,8], [1,7]]\n",
    "\n",
    "# 각 노드 방문 정보를 리스트 자료형으로 표현 \n",
    "visited = [False]*9\n",
    "\n",
    "#정의된 DFS 함수 호출 \n",
    "DFS(graph,1,visited)\n",
    "\n"
   ]
  }
 ],
 "metadata": {
  "interpreter": {
   "hash": "97ae724bfa85b9b34df7982b8bb8c7216f435b92902d749e4263f71162bea840"
  },
  "kernelspec": {
   "display_name": "Python 3.8.5 64-bit ('base': conda)",
   "language": "python",
   "name": "python3"
  },
  "language_info": {
   "codemirror_mode": {
    "name": "ipython",
    "version": 3
   },
   "file_extension": ".py",
   "mimetype": "text/x-python",
   "name": "python",
   "nbconvert_exporter": "python",
   "pygments_lexer": "ipython3",
   "version": "3.8.5"
  },
  "orig_nbformat": 4
 },
 "nbformat": 4,
 "nbformat_minor": 2
}
