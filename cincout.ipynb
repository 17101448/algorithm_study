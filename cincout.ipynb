{
 "cells": [
  {
   "cell_type": "markdown",
   "metadata": {},
   "source": [
    "표준 입출력\n",
    "\n",
    "scanf printf를 쓰면서도 c_str()메소드를 이용해 출력해야함 \n",
    "\n",
    "char*로 입력을 받는다\n",
    "string으로 형변환한다. \n",
    "원하는 작업을 진행한다. \n",
    "c_str()메서드로 출력한다. "
   ]
  },
  {
   "cell_type": "code",
   "execution_count": null,
   "metadata": {},
   "outputs": [],
   "source": [
    "int main(void){\n",
    "    char a[10];\n",
    "    printf(\"input)\n",
    "} "
   ]
  },
  {
   "cell_type": "markdown",
   "metadata": {},
   "source": [
    "scanf와cin으로 \n",
    "### 공백을 포함한 문자열을 입력받는 법 \n",
    "공백앞까지만 입력받기 때문에 그러함 \n"
   ]
  },
  {
   "cell_type": "code",
   "execution_count": null,
   "metadata": {},
   "outputs": [],
   "source": [
    "//1. scanf의 옵션 \n",
    "char a1[10];\n",
    "scanf(\"%[^\\n]\",a1);\n",
    "\n",
    "//2. gets함수(보안상 문제로 14 이상에서는 제거)\n",
    "char a2[10];\n",
    "gets(a2);\n",
    "puts(a2);\n",
    "\n",
    "//3. getline함수 \n",
    "string s;\n",
    "getline(cin, s);\n",
    "cout << s; "
   ]
  },
  {
   "cell_type": "markdown",
   "metadata": {},
   "source": [
    "cin cout에서 주의점 \n",
    "입출력으로 인한 시간초과를 막기 위해 "
   ]
  },
  {
   "cell_type": "code",
   "execution_count": null,
   "metadata": {},
   "outputs": [],
   "source": [
    "ios::sync_with_stdio(0);\n",
    "cin.tie(0);"
   ]
  },
  {
   "cell_type": "markdown",
   "metadata": {},
   "source": [
    "c stream과 c++ stream은 별개의 스트림으로 항상 동기화가 이루어진다.\n",
    "하지만 한 종류의 stream만 사용한다면, 동기화를 할 필요가 없으므로 동기화를 끊는 명령어를 사용한다. \n",
    "단, 위 명령어를 사용하게 될 경우 절대로 printf와 cin을 섞어 쓸 수 없다.\n",
    "\n",
    "문자를 입력 받으면, \n",
    "버퍼가 임시로 저장되었다가 버퍼에서 비워지면서 console에 보여짐 \n",
    "따라서 cin명령을 수행하기전에 cout버퍼를 비운다.\n",
    "\n",
    "### endl\n",
    "endl 사용 절대 금지 \n",
    "개행문자를 출력하고 버퍼를 비워라라는 명령어 \n",
    "줄바꿈 필요시 그냥 개행문자만 출력 \n",
    "\n",
    "\n",
    "### 연습문제 \n",
    "#### 문제\n",
    "정수 N개로 이루어진 수열 A와 정수 X가 주어진다. 이때, A에서 X보다 작은 수를 모두 출력하는 프로그램을 작성하시오.\n",
    "#### 입력\n",
    "첫째 줄에 N과 X가 주어진다. (1 ≤ N, X ≤ 10,000)\n",
    "\n",
    "둘째 줄에 수열 A를 이루는 정수 N개가 주어진다. 주어지는 정수는 모두 1보다 크거나 같고, 10,000보다 작거나 같은 정수이다.\n",
    "#### 출력\n",
    "X보다 작은 수를 입력받은 순서대로 공백으로 구분해 출력한다. X보다 작은 수는 적어도 하나 존재한다.\n",
    "\n",
    "#### 예제 입력 \n",
    "10 5\n",
    "\n",
    "1 10 4 9 2 3 8 5 7 6\n",
    "\n",
    "#### 예제 출력 \n",
    "1 4 2 3"
   ]
  },
  {
   "cell_type": "code",
   "execution_count": null,
   "metadata": {},
   "outputs": [],
   "source": [
    "int n =0;\n",
    "int x =0;\n",
    "\n",
    "std::cin>>n;\n",
    "std::cin>>x;\n",
    "\n",
    "int a[n];\n",
    "\n",
    "for(int i=0; i<n i++){\n",
    "    std::cin>>a[i]; \n",
    "}\n",
    "\n",
    "for(int i=0; i<n i++)\n",
    "{\n",
    "    if(a[i]<x)\n",
    "    {\n",
    "        std::cout>>a[i]; \n",
    "    }\n",
    "}\n",
    "\n"
   ]
  },
  {
   "cell_type": "code",
   "execution_count": null,
   "metadata": {},
   "outputs": [],
   "source": [
    "//정석 풀이\n",
    "#include main(void){\n",
    "    std::ios::sync_with_stdio(false);\n",
    "    std::cin.tie(nullptr);\n",
    "    int n, x;\n",
    "    std::cin>>n>>x;\n",
    "    int* a = new int[n];\n",
    "    for(int i=0; i<n; i++){\n",
    "        std::cin >> a[i];\n",
    "    }\n",
    "    for(int i=0; i<n; i++){\n",
    "        if(a[i]<x){\n",
    "            std::cout<<a[i]<<' ';\n",
    "        }\n",
    "    }\n",
    "    delete[] a; \n",
    "}"
   ]
  },
  {
   "cell_type": "code",
   "execution_count": null,
   "metadata": {},
   "outputs": [],
   "source": [
    "// 실제 코테에서 지향해야하는 답 [최대한 짧게]\n",
    "\n",
    "#include <bits/stdc++/h>\n",
    "using namespace std;\n",
    "int n, x, a[10005];\n",
    "int main(void){\n",
    "    ios::sync_with_stdio(0);\n",
    "    cin.tie(0);\n",
    "    cin >> n >> x;\n",
    "    for(int i=0; i<n; i++) cin >> a[i];\n",
    "    for(a[i] < x) cout << a[i] << ' '; \n",
    "\n",
    "}"
   ]
  },
  {
   "cell_type": "code",
   "execution_count": null,
   "metadata": {},
   "outputs": [],
   "source": [
    "// 실제 코테에서 지향해야하는 답 \n",
    "#include <bits/stdc++.h>\n",
    "\n",
    "using namespace std;\n",
    "\n",
    "int main(void){\n",
    "    ios::sync_with_stdio(0);\n",
    "    cin.tie(0);\n",
    "    int n,x,t;\n",
    "    cin >> n >> x;\n",
    "    while(n--){\n",
    "        cin >> t;\n",
    "        if(t<x) cout<<t<<' ';\n",
    "    }\n",
    "}"
   ]
  }
 ],
 "metadata": {
  "language_info": {
   "name": "python"
  },
  "orig_nbformat": 4
 },
 "nbformat": 4,
 "nbformat_minor": 2
}
