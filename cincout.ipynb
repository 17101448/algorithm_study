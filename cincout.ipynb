{
 "cells": [
  {
   "cell_type": "markdown",
   "metadata": {},
   "source": [
    "표준 입출력\n",
    "\n",
    "char*로 입력을 받는다\n",
    "string으로 형변환한다. \n",
    "원하는 작업을 진행한다. \n",
    "c_str()메서드로 출력한다. "
   ]
  },
  {
   "cell_type": "code",
   "execution_count": null,
   "metadata": {},
   "outputs": [],
   "source": [
    "int main(void){\n",
    "    char a[10];\n",
    "    printf(\"input)\n",
    "}"
   ]
  }
 ],
 "metadata": {
  "language_info": {
   "name": "python"
  },
  "orig_nbformat": 4
 },
 "nbformat": 4,
 "nbformat_minor": 2
}
