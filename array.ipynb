{
 "cells": [
  {
   "cell_type": "code",
   "execution_count": null,
   "metadata": {},
   "outputs": [],
   "source": []
  },
  {
   "cell_type": "markdown",
   "metadata": {},
   "source": [
    "### 배열 \n",
    "메모리 상에 원소를 연속하게 배치한 자료구조 \n",
    "#### 성질 \n",
    "1. o(1)에 k번째 원소를 확인/변경 가능 \n",
    "- 시작 주소에서 k칸 만큼 오른쪽으로 가면 됨 \n",
    "2. 추가적으로 소모되는 메모리의 양(=overhead)이 거의 없음 \n",
    "3. Cache hit rate가 높음 \n",
    "- 메모리 상에 데이터들이 붙어있음 \n",
    "4. 메모리 상에 연속한 구간을 잡아야해서 할당에 제약이 걸림 \n",
    "\n",
    "#### 기능과 구현 \n",
    "1. 임의의 위치에 있는 원소를 확인/변경 O(1)\n",
    "2. 원소를 끝에 추가 O(1)\n",
    "3. 마지막 원소를 제거 O(1)\n",
    "4. 임의의 위치에 원소를 추가,제거 O(n)\n",
    "- 임의의 위치에 넣게 되면 그 뒤의 원소들을 전부 한칸씩 밀어야한다. (평균적으로 n/2번 밀어야한다.)\n",
    "\n"
   ]
  },
  {
   "cell_type": "code",
   "execution_count": null,
   "metadata": {},
   "outputs": [],
   "source": [
    "#include <bits.stdc++.h>\n",
    "using namespace std;\n",
    "\n",
    "void insert (int idx, int num, int arr[] int& len){\n",
    "//1. 늘어난 크기의 배열 선언 \n",
    "int newArr[len+1];\n",
    "//2. idx전까지 원래값 복사 \n",
    "for(int i=0; i<idx; i++){\n",
    "    nerArr[i] = arr[i];\n",
    "}\n",
    "\n",
    "//4. idx 이후부터 원래값 다시 복사 \n",
    "for(int i=idx; i<len; i++)\n",
    "{\n",
    "    newArr[i+1] = arr[i];\n",
    "}\n",
    "\n",
    "//3. idx에 새 값 추가 \n",
    "newArr[idx] = num;\n",
    "//5. arr를 덮어 씌운다.\n",
    "\n",
    "arr = newArr\n",
    "}\n",
    "\n",
    "void erase(int idx, int arr[], int& len){\n",
    "//1. 줄여진 크기의 배열 선언\n",
    "newArr[len-1];\n",
    "//2. idx전까지 원래값 복사 \n",
    "for(int i=0; i<idx; i++){\n",
    "    newArr[i] = arr[i];\n",
    "}\n",
    "//3. idx 이후부터 원래값 다시 복사 \n",
    "for(int i=idx+1; i<len; i++ )\n",
    "{\n",
    "    newArr[i-1] = arr[i]\n",
    "}\n",
    "//4. arr를 덮어 씌운다. \n",
    "}\n",
    "\n",
    "void printArr(int arr[], int& len){\n",
    "    for(int i=0; i<len; i++) cout << arr[i] << ' ';\n",
    "    cout << \"\\n\\n\";\n",
    "}"
   ]
  },
  {
   "cell_type": "code",
   "execution_count": null,
   "metadata": {},
   "outputs": [],
   "source": [
    "//정답 \n",
    "\n",
    "\n",
    "void insert(int idx, int num, int arr[], int& len){\n",
    "    for(int i= len;i>idx;i-- ){\n",
    "        arr[i] = arr[i-1]\n",
    "    }\n",
    "    arr[idx]=num; \n",
    "}\n",
    "\n",
    "\n",
    "void erase(int arr[], int& len){\n",
    "    for(int i=idx; i<len; i++)\n",
    "    {\n",
    "        arr[i]=arr[i+1];\n",
    "    }\n",
    "}"
   ]
  },
  {
   "cell_type": "markdown",
   "metadata": {},
   "source": [
    "### 특정값으로 초기화 시킬 때 팁 \n",
    "\n",
    "#### 1. memset함수 활용 "
   ]
  },
  {
   "cell_type": "code",
   "execution_count": null,
   "metadata": {},
   "outputs": [],
   "source": [
    "int a[21];\n",
    "int b[21][21];\n",
    "\n",
    "memset(a, 0, sizeof a);\n",
    "memset(b, 0, sizeof b);\n"
   ]
  },
  {
   "cell_type": "markdown",
   "metadata": {},
   "source": [
    "실수할 여지가 굉장히 많다. \n",
    "예를들어 \n",
    "1. 0이나 -1이 아닌 다른 값을 넣으면 오작동함 \n",
    "2. 2차원 이상의 배열을 memset함수 인자로 넘길 경우 오작동함 \n",
    "\n",
    "\n",
    "#### 2. 각 요소에 접근하여 "
   ]
  },
  {
   "cell_type": "code",
   "execution_count": null,
   "metadata": {},
   "outputs": [],
   "source": [
    "for (int i=0; i<21; i++){\n",
    "    a[i]=0;\n",
    "}\n",
    "\n",
    "for(int i=0; i<21; i++){\n",
    "    for(int j=0; j<21; j++){\n",
    "        b[i][j]=0;\n",
    "    }\n",
    "}"
   ]
  },
  {
   "cell_type": "markdown",
   "metadata": {},
   "source": [
    "#### 3. fill함수로 전체 초기화 \n",
    "fill(변수, 변수 + 크기, 채울값)"
   ]
  },
  {
   "cell_type": "code",
   "execution_count": null,
   "metadata": {},
   "outputs": [],
   "source": [
    "fill(a, a+21, 0);\n",
    "for(int i=0; i<21; i++){\n",
    "    fill(b[i], b[i]+21,0)\n",
    "}"
   ]
  },
  {
   "cell_type": "markdown",
   "metadata": {},
   "source": [
    "### STL Vector \n",
    "\n",
    "배열과 거의 동일한 기능을 수행하는 자료구조 \n",
    "\n",
    "배열과 마찬가지로 원소가 메모리에 연속하게 저장 \n",
    "\n",
    "배열과 달리 크기를 자유자재로 늘이거나 줄일 수 있다. \n",
    "\n",
    "그래프의 인접 리스트 작성 외에는 vector대신 배열을 쓸 상황은 크게 없다. "
   ]
  },
  {
   "cell_type": "code",
   "execution_count": null,
   "metadata": {},
   "outputs": [],
   "source": [
    "vector<int> v1 = {1,2,3,4,5,6};\n",
    "\n",
    "for(int e:v1){\n",
    "    cout<<e<<' ';\n",
    "}\n",
    "\n",
    "\n",
    "//ranged-based for loop가 익숙지 않을 경우\n",
    "for(int i=0; i<v1.size(); i++){\n",
    "    cout <<v1[i]<<' ';\n",
    "}\n",
    "\n",
    "\n",
    "//절대 이런식으로작성하지 말것 \n",
    "for(int i=0; i<v1.size()-1; i++){\n",
    "    cout << v1[i] << ' ';\n",
    "}"
   ]
  },
  {
   "cell_type": "markdown",
   "metadata": {},
   "source": [
    "##### range-based for loop\n",
    "- for(int e:v1) :\n",
    "e에 v1의 원소들이 하나씩 들어감 \n",
    "\n",
    "\n",
    "- int e:v1 :\n",
    "복사된 값이 e에 들어감 \n",
    "\n",
    "\n",
    "- int&e:v1 :\n",
    "원본이 e에 들어감 \n",
    "\n",
    "--------------------------------------------------------------------------------------------------------------------\n",
    "\n",
    "#### vector의 size 메소드 \n",
    "시스템에 따라 unsigned int 혹은 unsigned long long을 반환한다. \n",
    "\n",
    "v1.size()-1을 하게 될 경우 unsigned int와 int연산이므로 unsigned int로 형변환이 발생한다. \n",
    "\n",
    "따라서 unsigned int(0) - int(1) = 4294967295 \n",
    "\n",
    "\n",
    "-------------------------------\n",
    "\n",
    "\n",
    "#### 배열이 쓰이는 용도 \n",
    "\n",
    "- 입력값을 저장해놓을 때 주로 사용 \n",
    "- 인덱스에 해당하는 원소를 빠르게 접근하는 목적으로도 배열 사용 \n",
    "\n",
    "\n",
    "#### 연습 문제 \n",
    "\n",
    "알파벳 소문자로만 이루어진 단어 S가 주어진다. 각 알파벳이 단어에 몇 개가 포함되어 있는지 구하는 프로그램을 작성하시오.\n",
    "\n",
    "첫째 줄에 단어 S가 주어진다. 단어의 길이는 100을 넘지 않으며, 알파벳 소문자로만 이루어져 있다.\n",
    "\n",
    "단어에 포함되어 있는 a의 개수, b의 개수, …, z의 개수를 공백으로 구분해서 출력한다.\n",
    "\n",
    "baekjoon\n",
    "\n",
    "1 1 0 0 1 0 0 0 0 1 1 0 0 1 2 0 0 0 0 0 0 0 0 0 0 0\n"
   ]
  },
  {
   "cell_type": "code",
   "execution_count": 1,
   "metadata": {},
   "outputs": [
    {
     "ename": "SyntaxError",
     "evalue": "invalid syntax (<ipython-input-1-f271ebd5c961>, line 2)",
     "output_type": "error",
     "traceback": [
      "\u001b[1;36m  File \u001b[1;32m\"<ipython-input-1-f271ebd5c961>\"\u001b[1;36m, line \u001b[1;32m2\u001b[0m\n\u001b[1;33m    using namespace std;\u001b[0m\n\u001b[1;37m          ^\u001b[0m\n\u001b[1;31mSyntaxError\u001b[0m\u001b[1;31m:\u001b[0m invalid syntax\n"
     ]
    }
   ],
   "source": [
    "#include <bits/stdc++.h>\n",
    "using namespace std; \n",
    "\n",
    "\n",
    "int alphabetFreq[26];\n",
    "// 전역변수로 선언해야 0으로 초기화 된다.\n",
    "// 지역변수로 선언할 경우 쓰레기 값이 들어간다. \n",
    "\n",
    "int main(void){\n",
    "    ios::sync_with_stdio(0);\n",
    "    cin.tie(0);\n",
    "    string s;\n",
    "    cin>>s; \n",
    "    for(char alphabet : s){\n",
    "        alphabetFreq[int(alphabet-'a')]++;\n",
    "    }\n",
    "    for(int i=0; i<26; i++){\n",
    "        cout << alphabetFreq[i] << ' ';\n",
    "    }\n",
    "}"
   ]
  },
  {
   "cell_type": "code",
   "execution_count": 2,
   "metadata": {},
   "outputs": [
    {
     "ename": "SyntaxError",
     "evalue": "invalid syntax (<ipython-input-2-6d6443be4a6e>, line 3)",
     "output_type": "error",
     "traceback": [
      "\u001b[1;36m  File \u001b[1;32m\"<ipython-input-2-6d6443be4a6e>\"\u001b[1;36m, line \u001b[1;32m3\u001b[0m\n\u001b[1;33m    주어진 길이 N의 int배열 arr에서 합이 100인 서로 다른 위치의 두 원소가 존재하면\u001b[0m\n\u001b[1;37m        ^\u001b[0m\n\u001b[1;31mSyntaxError\u001b[0m\u001b[1;31m:\u001b[0m invalid syntax\n"
     ]
    }
   ],
   "source": [
    "#### 문제 2\n",
    "\n",
    "주어진 길이 N의 int배열 arr에서 합이 100인 서로 다른 위치의 두 원소가 존재하면 \n",
    "1을, 존재하지 않으면 0을 반환하는 함수 func2(int arr[], int N)을 작성하라. \n",
    "arr의 각 수는 0이상 100이하이고 N은 1000이하이다. "
   ]
  },
  {
   "cell_type": "code",
   "execution_count": 1,
   "metadata": {},
   "outputs": [
    {
     "ename": "SyntaxError",
     "evalue": "invalid syntax (<ipython-input-1-f338ce8a9ba3>, line 2)",
     "output_type": "error",
     "traceback": [
      "\u001b[1;36m  File \u001b[1;32m\"<ipython-input-1-f338ce8a9ba3>\"\u001b[1;36m, line \u001b[1;32m2\u001b[0m\n\u001b[1;33m    using namespace std;\u001b[0m\n\u001b[1;37m          ^\u001b[0m\n\u001b[1;31mSyntaxError\u001b[0m\u001b[1;31m:\u001b[0m invalid syntax\n"
     ]
    }
   ],
   "source": [
    "#include <bits/stdc++.h>\n",
    "using namespace std;\n",
    "\n",
    "bool func(int arr[], int N){\n",
    "    for(int i=0; i<N; i++){\n",
    "        for(int j = i+1; j<N; j++){\n",
    "            if((arr[i]+arr[j])==100)\n",
    "            {\n",
    "                return 1;\n",
    "            }\n",
    "        }\n",
    "    }\n",
    "    return 0; \n",
    "}\n",
    "\n",
    "int main(void){\n",
    "\n",
    "\n",
    "}"
   ]
  },
  {
   "cell_type": "code",
   "execution_count": 3,
   "metadata": {},
   "outputs": [
    {
     "ename": "SyntaxError",
     "evalue": "invalid syntax (<ipython-input-3-2e3c3c88f494>, line 1)",
     "output_type": "error",
     "traceback": [
      "\u001b[1;36m  File \u001b[1;32m\"<ipython-input-3-2e3c3c88f494>\"\u001b[1;36m, line \u001b[1;32m1\u001b[0m\n\u001b[1;33m    func2(int arr[], int n ){\u001b[0m\n\u001b[1;37m              ^\u001b[0m\n\u001b[1;31mSyntaxError\u001b[0m\u001b[1;31m:\u001b[0m invalid syntax\n"
     ]
    }
   ],
   "source": [
    "func2(int arr[], int n ){\n",
    "    int cnt =0; \n",
    "    for(int i=0; i<n; i++){\n",
    "        for(int j=0; j<n; j++){\n",
    "            if(arr[i]+arr[j]==100|i!=j){\n",
    "                cnt+=1\n",
    "            }\n",
    "        }\n",
    "    }\n",
    "    return cnt; \n",
    "}"
   ]
  },
  {
   "cell_type": "code",
   "execution_count": null,
   "metadata": {},
   "outputs": [],
   "source": [
    "int count[101];\n",
    "\n",
    "bool func2(int arr[], int n){\n",
    "    for(int idx : arr){\n",
    "        count[idx]=1; \n",
    "    }\n",
    "    for(int idx : arr){\n",
    "        if(count[100-idx]==1)\n",
    "        {\n",
    "            return 1;\n",
    "        }\n",
    "    }\n",
    "    return 0;\n",
    "}\n"
   ]
  }
 ],
 "metadata": {
  "interpreter": {
   "hash": "97ae724bfa85b9b34df7982b8bb8c7216f435b92902d749e4263f71162bea840"
  },
  "kernelspec": {
   "display_name": "Python 3.8.5 64-bit ('base': conda)",
   "language": "python",
   "name": "python3"
  },
  "language_info": {
   "codemirror_mode": {
    "name": "ipython",
    "version": 3
   },
   "file_extension": ".py",
   "mimetype": "text/x-python",
   "name": "python",
   "nbconvert_exporter": "python",
   "pygments_lexer": "ipython3",
   "version": "3.8.5"
  },
  "orig_nbformat": 4
 },
 "nbformat": 4,
 "nbformat_minor": 2
}
