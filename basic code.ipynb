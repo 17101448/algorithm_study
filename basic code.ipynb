{
 "cells": [
  {
   "cell_type": "markdown",
   "metadata": {},
   "source": [
    "### 시간복잡도 \n",
    "- 입력의 크기와 문제를 해결하는데 걸리는 시간의 싱관관계\n",
    "\n",
    "### 빅오 표기법\n",
    "- 주어진 식을 값이 가장 큰 대표항만 남겨서 나타내는 방법 \n",
    "\n",
    "수행시간 \n",
    "O(1) < O(lgN) < O(N) < O(NlgN) < O(N^2) < O(2^N) < O(N!)\n",
    "\n",
    "\n",
    "### n의 크기에 따른 허용 시간 복잡도 \n",
    "O(1),O(lgN) : 거의 제약 없음\n",
    "O(N)        : 10,000,000\n",
    "O(NlgN)     : 1,000,000\n",
    "O(N^2)      : 5,000\n",
    "O(N^2lgN)   : 3,000\n",
    "O(N^3)      : 500\n",
    "O(N^4)      : 100 \n",
    "O(2^N)      : 25\n",
    "O(N!)       : 11\n",
    "\n",
    "\n",
    "내 알고리즘의 시간복잡도가 올바른지를 꼭 확인해봐야한다. \n",
    "무턱대고 구현했는데 시간초과 나면 답도 없다. \n",
    "\n",
    "# 내 코드의 시간 복잡도를 아는 법 "
   ]
  },
  {
   "cell_type": "code",
   "execution_count": null,
   "metadata": {},
   "outputs": [],
   "source": [
    "int func1(int arr[], int n ){\n",
    "    int cnt = 0;\n",
    "    for(int i=0; i<n; i++){\n",
    "        if(arr[i]%5==0) cnt++;\n",
    "    }\n",
    "    return cnt; \n",
    "}"
   ]
  },
  {
   "cell_type": "markdown",
   "metadata": {},
   "source": [
    "## 위 함수의 시간 복잡도는?\n",
    "\n",
    "cnt=0\n",
    "i=0\n",
    "반복문 내부 n x\n",
    "{\n",
    "    i<n, i++, arr[i]%5==0, cnt ++, 총 5회 \n",
    "}\n",
    "\n",
    "return cnt \n",
    "+1\n",
    "\n",
    "전체식은 5n+3\n",
    "\n",
    "보통은 상수 떼고 \"n에 비례한다\" 라고 퉁쳐서 표현 "
   ]
  },
  {
   "cell_type": "markdown",
   "metadata": {},
   "source": [
    "문제 1  n이하의 자연수 중에서 3의 배수이거나 5의 배수인 수를 모두 합한 값을 반환하는 함수를 작성해라.\n",
    "n은 10만 이하의 자연수이다. "
   ]
  },
  {
   "cell_type": "code",
   "execution_count": null,
   "metadata": {},
   "outputs": [],
   "source": [
    "int func1(int n ){\n",
    "   int sum =0;\n",
    "   for(int i=0; i<n; i++){\n",
    "       if(i%5==0 || i%3==0){\n",
    "           sum+=i;\n",
    "       }\n",
    "   }\n",
    "   return sum;\n",
    "}\n"
   ]
  },
  {
   "cell_type": "markdown",
   "metadata": {},
   "source": [
    "하나의 반복문에 대해서만 연산을 진행하므로 시간복잡도 O(n)"
   ]
  },
  {
   "cell_type": "markdown",
   "metadata": {},
   "source": [
    "문제 2\n",
    "주어진 길이 n int 배열 arr에서 합이 100인 서로 다른 위치의 두 원소가 존재하면 1을, 존재하지 않으면 0을 반환하는 함수 func2(int arr[], int N)을 작성하라. arr의 각 수는 0이상 100이하고 N은 1000이하이다. "
   ]
  },
  {
   "cell_type": "code",
   "execution_count": null,
   "metadata": {},
   "outputs": [],
   "source": [
    "func2(int arr[], int n ){\n",
    "    int cnt =0; \n",
    "    for(int i=0; i<n; i++){\n",
    "        for(int j=0; j<n; j++){\n",
    "            if(arr[i]+arr[j]==100|i!=j){\n",
    "                cnt+=1\n",
    "            }\n",
    "        }\n",
    "    }\n",
    "    return cnt; \n",
    "}"
   ]
  },
  {
   "cell_type": "markdown",
   "metadata": {},
   "source": [
    "문제 3 \n",
    "n이 제곱수이면 1을 반환하고 제곱수가 아니면 0을 반환하는 함수를 작성해라 \n",
    "n은 10억 이하의 자연수이다. "
   ]
  },
  {
   "cell_type": "code",
   "execution_count": null,
   "metadata": {},
   "outputs": [],
   "source": [
    "## 내풀이 \n",
    "\n",
    "func3(int n){\n",
    "    int test=0;\n",
    "    for(int i=0; i<n; i++){\n",
    "        test = n/i;\n",
    "        if(test == i){\n",
    "            return 1;\n",
    "        }\n",
    "    }\n",
    "    return 0; \n",
    "}"
   ]
  },
  {
   "cell_type": "code",
   "execution_count": null,
   "metadata": {},
   "outputs": [],
   "source": [
    "int func3(int N){\n",
    "    for(int i=1; i*i<=N; i++){\n",
    "        if(i*i == N) return 1; \n",
    "    }\n",
    "    return 0; \n",
    "}"
   ]
  },
  {
   "cell_type": "markdown",
   "metadata": {},
   "source": [
    "1을 반환할 경우 자기자신의 루트 까지만 탐색하기 때문에\n",
    "시간복잡도는 O(n^(1/2))이다.\n",
    "\n",
    "\n",
    "문제 4 \n",
    "n이하의 수 중에서 가장 큰 2의 거듭제곱수를 반환하는 함수를 작성해라\n",
    "N은 10억 이하의 자연수이다.\n"
   ]
  },
  {
   "cell_type": "code",
   "execution_count": null,
   "metadata": {},
   "outputs": [],
   "source": [
    "int func4(int n){\n",
    " int val = 1;\n",
    " while(val<=n){\n",
    "     val *=2;\n",
    " }\n",
    " return val \n",
    "}"
   ]
  },
  {
   "cell_type": "markdown",
   "metadata": {},
   "source": [
    "\n",
    "\n",
    "시간복잡도는 O(lgN)\n",
    "\n",
    "\n",
    "## 공간복잡도 \n",
    "\n",
    "입력의 크기와 문제를 해결하는데 필요한 공간의 상관관계\n",
    "\n",
    "512mb = 1.2억개의 int 변수 선언 가능 "
   ]
  }
 ],
 "metadata": {
  "interpreter": {
   "hash": "97ae724bfa85b9b34df7982b8bb8c7216f435b92902d749e4263f71162bea840"
  },
  "kernelspec": {
   "display_name": "Python 3.8.5 64-bit ('base': conda)",
   "language": "python",
   "name": "python3"
  },
  "language_info": {
   "name": "python",
   "version": "3.8.5"
  },
  "orig_nbformat": 4
 },
 "nbformat": 4,
 "nbformat_minor": 2
}
