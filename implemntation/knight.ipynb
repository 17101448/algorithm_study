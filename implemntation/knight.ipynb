{
 "cells": [
  {
   "cell_type": "markdown",
   "metadata": {},
   "source": [
    "왕실의 나이트 \n",
    "\n",
    "8x8 좌표평면 \n",
    "\n",
    "나이트는 다음과 같은 2가지 경우로 이동가능하다\n",
    "\n",
    "1. 수평으로 두칸 이동한 뒤 수직으로 한칸 이동하기 \n",
    "2. 수직으로 두칸 이동한 뒤 수평으로 한칸 이동하기 \n",
    "\n",
    "8x8 평면 상에서 나이트의 위치가 주어졌을 때 나이트가 이동할 수 있는 경우의 수를 출력하는 프로그램을 작성하시오 \n",
    "\n",
    "행은 1부터 8로 표현 \n",
    "열은 a부터 h로 표현한다. "
   ]
  },
  {
   "cell_type": "markdown",
   "metadata": {},
   "source": [
    "입력 조건 : 열과 행으로 이루어진다. ex) a1\n",
    "출력 조건 : 나이트가 이동할 수 있는 경우의 수 \n",
    "\n",
    "예시 \n",
    "a1 -> 2\n",
    "c2 -> 6 \n"
   ]
  },
  {
   "cell_type": "code",
   "execution_count": 1,
   "metadata": {},
   "outputs": [
    {
     "name": "stdout",
     "output_type": "stream",
     "text": [
      "3   2\n",
      "3   0\n",
      "-1   2\n",
      "-1   0\n",
      "2   3\n",
      "0   3\n",
      "2   -1\n",
      "0   -1\n",
      "6\n"
     ]
    }
   ],
   "source": [
    "count=0\n",
    "#이동 구현 시 흔히 쓰이는 방법 1 \n",
    "dx = [2, 2, -2, -2, 1, -1, 1, -1]\n",
    "dy = [1, -1, 1, -1, 2, 2, -2, -2]\n",
    "\n",
    "moveTypes = [0, 1, 2, 3, 4, 5, 6, 7]\n",
    "\n",
    "\n",
    "\n",
    "\n",
    "input_data=input()\n",
    "y = int(input_data[1])\n",
    "#문자형 좌표를 정수형 좌표로 변환\n",
    "x = int(ord(input_data[0]))-int(ord('a'))+1\n",
    "\n",
    "testX =0\n",
    "testY=0\n",
    "\n",
    "for step in moveTypes:\n",
    "    testX=x+dx[step]\n",
    "    testY=y+dy[step]\n",
    "    if(0<testX<9 or 0<testY<9): count+=1\n",
    "\n",
    "print(count)"
   ]
  },
  {
   "cell_type": "markdown",
   "metadata": {},
   "source": []
  }
 ],
 "metadata": {
  "interpreter": {
   "hash": "97ae724bfa85b9b34df7982b8bb8c7216f435b92902d749e4263f71162bea840"
  },
  "kernelspec": {
   "display_name": "Python 3.8.5 64-bit ('base': conda)",
   "name": "python3"
  },
  "language_info": {
   "codemirror_mode": {
    "name": "ipython",
    "version": 3
   },
   "file_extension": ".py",
   "mimetype": "text/x-python",
   "name": "python",
   "nbconvert_exporter": "python",
   "pygments_lexer": "ipython3",
   "version": "3.8.5"
  },
  "orig_nbformat": 4
 },
 "nbformat": 4,
 "nbformat_minor": 2
}
