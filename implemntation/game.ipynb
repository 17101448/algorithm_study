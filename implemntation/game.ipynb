{
 "cells": [
  {
   "cell_type": "markdown",
   "metadata": {},
   "source": [
    "#문제설명#\n",
    "\n",
    "NxM크기의 맵이 있다. \n",
    "각각의 칸은 육지또는 바다이다. \n",
    "\n",
    "맵의 각 칸은 A,B로 나타낼 수 있고,\n",
    "A : 북쪽으로부터 떨어진 칸의 개수 \n",
    "B : 서쪽으로부터 떨어진 칸의 개수 이다. \n",
    "케릭터는 상하좌우로 움직일 수 있고, 바다에는 갈 수 없다. \n",
    "\n",
    "1. 현재 위치에서 현재 방향을 기준으로 왼쪽방향(반시계 90도)부터 차례대로 갈 곳을 지정 \n",
    "2. 케릭터 왼쪽 방향에 가보지 않은 칸이 존재하면 왼쪽방향으로 회전한 다음 왼쪽으로 한칸 전진 \n",
    "    2-2. 왼쪽방향이 가본 칸이라면 왼쪽방향으로 회전만하고 1단계로 간다. \n",
    "3. 네 방향 모두 이미 가본 칸이거나 바다로 되어있는 경우, 바라보는 방향을 유지한 채로 한 칸 뒤로 가고 1로 간다. \n",
    "    3-2. 이 때 방향이 바다인 칸이라 뒤로 갈 수 없는 경우 움직임을 멈춘다. "
   ]
  },
  {
   "cell_type": "markdown",
   "metadata": {},
   "source": [
    "#입력 조건#\n",
    "1. n,m을 공백으로 구분하여 입력 \n",
    "2. 게임 케릭터가 있는 칸의 좌표(a,b)와 바라보는 방향 d가 서로 공백으로 구분하여 주어짐\n",
    "    0: 북쪽, 1: 동쪽, 2: 남쪽, 3:서쪽\n",
    "3. 맵이 육지인지 바다인지 입력, \n",
    "n개의 줄의 맵의 상태가 북쪽부터 남쪽 순서대로, \n",
    "각 줄의 데이터는 서쪽부터 동쪽 순서대로 \n",
    "    0: 육지, 1 바다 \n",
    "\n",
    "* 처음에 케릭터가 위치한 칸의 상태는 항상 육지이다. "
   ]
  },
  {
   "cell_type": "markdown",
   "metadata": {},
   "source": [
    "*입력 예시*\n",
    "\n",
    "맵 전체크기 \n",
    ">4 4\n",
    "케릭터 상태 구현\n",
    ">1 1 0\n",
    "맵구현\n",
    ">>1111\n",
    ">>1001\n",
    ">>1101\n",
    ">>1111"
   ]
  },
  {
   "cell_type": "markdown",
   "metadata": {},
   "source": []
  },
  {
   "cell_type": "code",
   "execution_count": 7,
   "metadata": {},
   "outputs": [
    {
     "ename": "AttributeError",
     "evalue": "'function' object has no attribute 'split'",
     "output_type": "error",
     "traceback": [
      "\u001b[1;31m---------------------------------------------------------------------------\u001b[0m",
      "\u001b[1;31mAttributeError\u001b[0m                            Traceback (most recent call last)",
      "\u001b[1;32m<ipython-input-7-1958c6263f1f>\u001b[0m in \u001b[0;36m<module>\u001b[1;34m\u001b[0m\n\u001b[0;32m      1\u001b[0m \u001b[0mn\u001b[0m\u001b[1;33m,\u001b[0m\u001b[0mm\u001b[0m \u001b[1;33m=\u001b[0m \u001b[0mmap\u001b[0m\u001b[1;33m(\u001b[0m\u001b[0mint\u001b[0m\u001b[1;33m,\u001b[0m\u001b[0minput\u001b[0m\u001b[1;33m(\u001b[0m\u001b[1;33m)\u001b[0m\u001b[1;33m.\u001b[0m\u001b[0msplit\u001b[0m\u001b[1;33m(\u001b[0m\u001b[1;33m)\u001b[0m\u001b[1;33m)\u001b[0m\u001b[1;33m\u001b[0m\u001b[1;33m\u001b[0m\u001b[0m\n\u001b[0;32m      2\u001b[0m \u001b[1;33m\u001b[0m\u001b[0m\n\u001b[1;32m----> 3\u001b[1;33m \u001b[0mx\u001b[0m\u001b[1;33m,\u001b[0m\u001b[0my\u001b[0m\u001b[1;33m,\u001b[0m\u001b[0md\u001b[0m\u001b[1;33m=\u001b[0m \u001b[0mmap\u001b[0m\u001b[1;33m(\u001b[0m\u001b[0mint\u001b[0m\u001b[1;33m,\u001b[0m \u001b[0minput\u001b[0m\u001b[1;33m.\u001b[0m\u001b[0msplit\u001b[0m\u001b[1;33m(\u001b[0m\u001b[1;33m)\u001b[0m\u001b[1;33m)\u001b[0m\u001b[1;33m\u001b[0m\u001b[1;33m\u001b[0m\u001b[0m\n\u001b[0m\u001b[0;32m      4\u001b[0m \u001b[1;33m\u001b[0m\u001b[0m\n\u001b[0;32m      5\u001b[0m \u001b[0mmap\u001b[0m \u001b[1;33m=\u001b[0m \u001b[1;33m[\u001b[0m\u001b[1;33m[\u001b[0m\u001b[1;36m0\u001b[0m \u001b[1;32mfor\u001b[0m \u001b[0mi\u001b[0m \u001b[1;32min\u001b[0m \u001b[0mrange\u001b[0m\u001b[1;33m(\u001b[0m\u001b[0mn\u001b[0m\u001b[1;33m)\u001b[0m\u001b[1;33m]\u001b[0m\u001b[1;32mfor\u001b[0m \u001b[0mj\u001b[0m \u001b[1;32min\u001b[0m \u001b[0mrange\u001b[0m\u001b[1;33m(\u001b[0m\u001b[0mm\u001b[0m\u001b[1;33m)\u001b[0m\u001b[1;33m]\u001b[0m\u001b[1;33m\u001b[0m\u001b[1;33m\u001b[0m\u001b[0m\n",
      "\u001b[1;31mAttributeError\u001b[0m: 'function' object has no attribute 'split'"
     ]
    }
   ],
   "source": [
    "n,m = map(int,input().split())\n",
    "\n",
    "x,y,d= map(int, input.split())\n",
    "\n",
    "map = [[0 for i in range(n)]for j in range(m)]\n",
    "\n",
    "for i in range(0,m):\n",
    "    map[i] = map(int, input.split())\n",
    "    \n",
    "    print(\"Hello\")\n"
   ]
  }
 ],
 "metadata": {
  "interpreter": {
   "hash": "97ae724bfa85b9b34df7982b8bb8c7216f435b92902d749e4263f71162bea840"
  },
  "kernelspec": {
   "display_name": "Python 3.8.5 64-bit ('base': conda)",
   "name": "python3"
  },
  "language_info": {
   "codemirror_mode": {
    "name": "ipython",
    "version": 3
   },
   "file_extension": ".py",
   "mimetype": "text/x-python",
   "name": "python",
   "nbconvert_exporter": "python",
   "pygments_lexer": "ipython3",
   "version": "3.8.5"
  },
  "orig_nbformat": 4
 },
 "nbformat": 4,
 "nbformat_minor": 2
}
